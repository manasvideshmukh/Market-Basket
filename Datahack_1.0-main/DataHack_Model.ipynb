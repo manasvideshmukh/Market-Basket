{
  "nbformat": 4,
  "nbformat_minor": 0,
  "metadata": {
    "colab": {
      "provenance": []
    },
    "kernelspec": {
      "name": "python3",
      "display_name": "Python 3"
    },
    "language_info": {
      "name": "python"
    }
  },
  "cells": [
    {
      "cell_type": "code",
      "execution_count": 1,
      "metadata": {
        "id": "4J5sTXKBSD53"
      },
      "outputs": [],
      "source": [
        "import pandas as pd\n",
        "from mlxtend.preprocessing import TransactionEncoder\n",
        "from mlxtend.frequent_patterns import apriori, association_rules\n",
        "\n",
        "\n",
        "def generate_association_rules(transactions, min_support, min_confidence):\n",
        "    # Convert the list of transactions into a boolean matrix using the TransactionEncoder class\n",
        "    te = TransactionEncoder()\n",
        "    te_ary = te.fit(transactions).transform(transactions)\n",
        "\n",
        "    # Convert the boolean matrix into a pandas DataFrame\n",
        "    df = pd.DataFrame(te_ary, columns=te.columns_)\n",
        "\n",
        "    # Get the frequent itemsets with a minimum support value\n",
        "    frequent_itemsets = apriori(df, min_support=min_support, use_colnames=True)\n",
        "\n",
        "    # Generate association rules with a minimum confidence value\n",
        "    rules = association_rules(frequent_itemsets, metric=\"confidence\", min_threshold=min_confidence)\n",
        "\n",
        "    # Filter and sort the association rules based on their desired metrics\n",
        "    filtered_rules = rules[(rules['lift'] > 1) & (rules['confidence'] > min_confidence)]\n",
        "    sorted_rules = filtered_rules.sort_values(by=['lift', 'confidence'], ascending=False)\n",
        "\n",
        "    return sorted_rules\n",
        "\n",
        "\n",
        "def get_most_likely_bought_items(transactions, input_item, min_support, min_confidence):\n",
        "    # Generate association rules\n",
        "    association_rules = generate_association_rules(transactions, min_support, min_confidence)\n",
        "\n",
        "    # Check if association_rules dataframe is empty\n",
        "    if association_rules.empty:\n",
        "        return \"No association rules found with the given minimum support and confidence values.\"\n",
        "\n",
        "    # Check if input_item is present in any of the transactions\n",
        "    if input_item not in set.union(*map(set, transactions)):\n",
        "        return \"The input item is not present in any of the transactions.\"\n",
        "\n",
        "    # Get the most likely bought items with the input_item as antecedent\n",
        "    rules_antecedent = association_rules[association_rules['antecedents'].apply(lambda x: input_item in x)]\n",
        "    rules_antecedent = rules_antecedent.sort_values(by=['lift', 'confidence'], ascending=False)\n",
        "\n",
        "    # Get the most likely bought items with the input_item as consequent\n",
        "    rules_consequent = association_rules[association_rules['consequents'].apply(lambda x: input_item in x)]\n",
        "    rules_consequent = rules_consequent.sort_values(by=['lift', 'confidence'], ascending=False)\n",
        "\n",
        "    # Merge the two dataframes to get the most likely bought items overall\n",
        "    merged_rules = pd.concat([rules_antecedent, rules_consequent])\n",
        "\n",
        "    # Get the top 10 most likely bought items\n",
        "    top_items = merged_rules.head(10)['antecedents'].apply(lambda x: list(x)[0])\n",
        "\n",
        "    return list(top_items)"
      ]
    },
    {
      "cell_type": "code",
      "source": [
        "df = pd.read_csv('/content/drive/MyDrive/grouped_items.csv')\n",
        "df.head()"
      ],
      "metadata": {
        "colab": {
          "base_uri": "https://localhost:8080/",
          "height": 206
        },
        "id": "LwWdzQeKSUso",
        "outputId": "43546b74-a2a8-4aed-fece-c7ef8c8ac2e7"
      },
      "execution_count": 2,
      "outputs": [
        {
          "output_type": "execute_result",
          "data": {
            "text/plain": [
              "   encoded_order_id                                          item_name\n",
              "0                 0  ['Mimosa Package', 'Fire Pie', 'Breakfast Sand...\n",
              "1                 1  ['Focaccia', 'Iced Tea', 'Bubbling Shrimp', 'H...\n",
              "2                 2  ['sunset on damen', 'Margaritas For Everyone',...\n",
              "3                 3  ['Well Tequila (Centenario Plata)', 'Fire Pie'...\n",
              "4                 4  [\"Lyre's Amalfi Spritz N/A\", 'Focaccia', 'Gril..."
            ],
            "text/html": [
              "\n",
              "  <div id=\"df-30bbe5a6-6d4f-49bf-b117-dae4b794155e\">\n",
              "    <div class=\"colab-df-container\">\n",
              "      <div>\n",
              "<style scoped>\n",
              "    .dataframe tbody tr th:only-of-type {\n",
              "        vertical-align: middle;\n",
              "    }\n",
              "\n",
              "    .dataframe tbody tr th {\n",
              "        vertical-align: top;\n",
              "    }\n",
              "\n",
              "    .dataframe thead th {\n",
              "        text-align: right;\n",
              "    }\n",
              "</style>\n",
              "<table border=\"1\" class=\"dataframe\">\n",
              "  <thead>\n",
              "    <tr style=\"text-align: right;\">\n",
              "      <th></th>\n",
              "      <th>encoded_order_id</th>\n",
              "      <th>item_name</th>\n",
              "    </tr>\n",
              "  </thead>\n",
              "  <tbody>\n",
              "    <tr>\n",
              "      <th>0</th>\n",
              "      <td>0</td>\n",
              "      <td>['Mimosa Package', 'Fire Pie', 'Breakfast Sand...</td>\n",
              "    </tr>\n",
              "    <tr>\n",
              "      <th>1</th>\n",
              "      <td>1</td>\n",
              "      <td>['Focaccia', 'Iced Tea', 'Bubbling Shrimp', 'H...</td>\n",
              "    </tr>\n",
              "    <tr>\n",
              "      <th>2</th>\n",
              "      <td>2</td>\n",
              "      <td>['sunset on damen', 'Margaritas For Everyone',...</td>\n",
              "    </tr>\n",
              "    <tr>\n",
              "      <th>3</th>\n",
              "      <td>3</td>\n",
              "      <td>['Well Tequila (Centenario Plata)', 'Fire Pie'...</td>\n",
              "    </tr>\n",
              "    <tr>\n",
              "      <th>4</th>\n",
              "      <td>4</td>\n",
              "      <td>[\"Lyre's Amalfi Spritz N/A\", 'Focaccia', 'Gril...</td>\n",
              "    </tr>\n",
              "  </tbody>\n",
              "</table>\n",
              "</div>\n",
              "      <button class=\"colab-df-convert\" onclick=\"convertToInteractive('df-30bbe5a6-6d4f-49bf-b117-dae4b794155e')\"\n",
              "              title=\"Convert this dataframe to an interactive table.\"\n",
              "              style=\"display:none;\">\n",
              "        \n",
              "  <svg xmlns=\"http://www.w3.org/2000/svg\" height=\"24px\"viewBox=\"0 0 24 24\"\n",
              "       width=\"24px\">\n",
              "    <path d=\"M0 0h24v24H0V0z\" fill=\"none\"/>\n",
              "    <path d=\"M18.56 5.44l.94 2.06.94-2.06 2.06-.94-2.06-.94-.94-2.06-.94 2.06-2.06.94zm-11 1L8.5 8.5l.94-2.06 2.06-.94-2.06-.94L8.5 2.5l-.94 2.06-2.06.94zm10 10l.94 2.06.94-2.06 2.06-.94-2.06-.94-.94-2.06-.94 2.06-2.06.94z\"/><path d=\"M17.41 7.96l-1.37-1.37c-.4-.4-.92-.59-1.43-.59-.52 0-1.04.2-1.43.59L10.3 9.45l-7.72 7.72c-.78.78-.78 2.05 0 2.83L4 21.41c.39.39.9.59 1.41.59.51 0 1.02-.2 1.41-.59l7.78-7.78 2.81-2.81c.8-.78.8-2.07 0-2.86zM5.41 20L4 18.59l7.72-7.72 1.47 1.35L5.41 20z\"/>\n",
              "  </svg>\n",
              "      </button>\n",
              "      \n",
              "  <style>\n",
              "    .colab-df-container {\n",
              "      display:flex;\n",
              "      flex-wrap:wrap;\n",
              "      gap: 12px;\n",
              "    }\n",
              "\n",
              "    .colab-df-convert {\n",
              "      background-color: #E8F0FE;\n",
              "      border: none;\n",
              "      border-radius: 50%;\n",
              "      cursor: pointer;\n",
              "      display: none;\n",
              "      fill: #1967D2;\n",
              "      height: 32px;\n",
              "      padding: 0 0 0 0;\n",
              "      width: 32px;\n",
              "    }\n",
              "\n",
              "    .colab-df-convert:hover {\n",
              "      background-color: #E2EBFA;\n",
              "      box-shadow: 0px 1px 2px rgba(60, 64, 67, 0.3), 0px 1px 3px 1px rgba(60, 64, 67, 0.15);\n",
              "      fill: #174EA6;\n",
              "    }\n",
              "\n",
              "    [theme=dark] .colab-df-convert {\n",
              "      background-color: #3B4455;\n",
              "      fill: #D2E3FC;\n",
              "    }\n",
              "\n",
              "    [theme=dark] .colab-df-convert:hover {\n",
              "      background-color: #434B5C;\n",
              "      box-shadow: 0px 1px 3px 1px rgba(0, 0, 0, 0.15);\n",
              "      filter: drop-shadow(0px 1px 2px rgba(0, 0, 0, 0.3));\n",
              "      fill: #FFFFFF;\n",
              "    }\n",
              "  </style>\n",
              "\n",
              "      <script>\n",
              "        const buttonEl =\n",
              "          document.querySelector('#df-30bbe5a6-6d4f-49bf-b117-dae4b794155e button.colab-df-convert');\n",
              "        buttonEl.style.display =\n",
              "          google.colab.kernel.accessAllowed ? 'block' : 'none';\n",
              "\n",
              "        async function convertToInteractive(key) {\n",
              "          const element = document.querySelector('#df-30bbe5a6-6d4f-49bf-b117-dae4b794155e');\n",
              "          const dataTable =\n",
              "            await google.colab.kernel.invokeFunction('convertToInteractive',\n",
              "                                                     [key], {});\n",
              "          if (!dataTable) return;\n",
              "\n",
              "          const docLinkHtml = 'Like what you see? Visit the ' +\n",
              "            '<a target=\"_blank\" href=https://colab.research.google.com/notebooks/data_table.ipynb>data table notebook</a>'\n",
              "            + ' to learn more about interactive tables.';\n",
              "          element.innerHTML = '';\n",
              "          dataTable['output_type'] = 'display_data';\n",
              "          await google.colab.output.renderOutput(dataTable, element);\n",
              "          const docLink = document.createElement('div');\n",
              "          docLink.innerHTML = docLinkHtml;\n",
              "          element.appendChild(docLink);\n",
              "        }\n",
              "      </script>\n",
              "    </div>\n",
              "  </div>\n",
              "  "
            ]
          },
          "metadata": {},
          "execution_count": 2
        }
      ]
    },
    {
      "cell_type": "code",
      "source": [
        "transactions = []\n",
        "x = []\n",
        "for i in range(len(df)):\n",
        "  itm = df.iat[i, 1]\n",
        "  x = itm.split(',')\n",
        "  transaction = []\n",
        "  for i in x:\n",
        "    j = i.replace(\"'\", \"\")\n",
        "    if j.startswith(\"[\"):\n",
        "      j = j[1:]\n",
        "    elif j.endswith(\"]\"):\n",
        "      j = j[:1]\n",
        "    if j.startswith(\" \"):\n",
        "      j = j[1:]\n",
        "    transaction.append(j)\n",
        "  transactions.append(transaction)\n",
        "transactions"
      ],
      "metadata": {
        "id": "bQoR5ho0TwCF"
      },
      "execution_count": null,
      "outputs": []
    },
    {
      "cell_type": "code",
      "source": [
        "new_transactions=[]\n",
        "for i in transactions:\n",
        "  transaction=[]\n",
        "  new_transactions.append(i[:-1])\n",
        "new_transactions"
      ],
      "metadata": {
        "id": "L_BCAuo6T-yq"
      },
      "execution_count": null,
      "outputs": []
    },
    {
      "cell_type": "code",
      "source": [
        "input_item = 'Focaccia'\n",
        "min_support = 0.01\n",
        "min_confidence = 0.5\n",
        "\n",
        "likely_items = get_most_likely_bought_items(new_transactions, input_item, min_support, min_confidence)\n",
        "temp = likely_items[0]\n",
        "i=0\n",
        "while temp == input_item:\n",
        "  i +=1\n",
        "  if i == len(likely_items):\n",
        "    temp = likely_items[0]\n",
        "    break\n",
        "  temp = likely_items[i]\n",
        "  if temp == '':\n",
        "    temp = likely_items[i+1]\n",
        "  else:\n",
        "    pass\n",
        "print(temp)"
      ],
      "metadata": {
        "colab": {
          "base_uri": "https://localhost:8080/"
        },
        "id": "TFnyS5b4UjtR",
        "outputId": "10d66566-b5ed-4ab8-fd3f-d16083f8a3c8"
      },
      "execution_count": 25,
      "outputs": [
        {
          "output_type": "stream",
          "name": "stdout",
          "text": [
            "Pomodoro\n"
          ]
        }
      ]
    },
    {
      "cell_type": "code",
      "source": [
        "item_value = \"{'originalValue': 'focasia', 'resolvedValues': [], 'interpretedValue': 'focasia'}\"\n",
        "item_value.split(\"'\")[3]"
      ],
      "metadata": {
        "colab": {
          "base_uri": "https://localhost:8080/",
          "height": 36
        },
        "id": "6DCOVIkCdtwW",
        "outputId": "d082a717-45d4-4b6e-bbf9-5999df73d010"
      },
      "execution_count": 27,
      "outputs": [
        {
          "output_type": "execute_result",
          "data": {
            "text/plain": [
              "'focasia'"
            ],
            "application/vnd.google.colaboratory.intrinsic+json": {
              "type": "string"
            }
          },
          "metadata": {},
          "execution_count": 27
        }
      ]
    },
    {
      "cell_type": "code",
      "source": [
        "import pandas as pd\n",
        "from mlxtend.preprocessing import TransactionEncoder\n",
        "from mlxtend.frequent_patterns import apriori, association_rules\n",
        "\n",
        "\n",
        "def generate_association_rules(input_item):\n",
        "    df = pd.read_csv('/content/drive/MyDrive/grouped_items.csv')\n",
        "    transactions = []\n",
        "    x = []\n",
        "    for i in range(len(df)):\n",
        "        itm = df.iat[i, 1]\n",
        "        x = itm.split(',')\n",
        "        transaction = []\n",
        "        for i in x:\n",
        "            j = i.replace(\"'\", \"\")\n",
        "            if j.startswith(\"[\"):\n",
        "                j = j[1:]\n",
        "            elif j.endswith(\"]\"):\n",
        "                j = j[:1]\n",
        "            if j.startswith(\" \"):\n",
        "                j = j[1:]\n",
        "            transaction.append(j)\n",
        "        transactions.append(transaction)\n",
        "    new_transactions=[]\n",
        "    for i in transactions:\n",
        "        transaction=[]\n",
        "        new_transactions.append(i[:-1])\n",
        "    te = TransactionEncoder()\n",
        "    te_ary = te.fit(new_transactions).transform(new_transactions)\n",
        "    df = pd.DataFrame(te_ary, columns=te.columns_)\n",
        "    frequent_itemsets = apriori(df, min_support=0.01, use_colnames=True)\n",
        "    rules = association_rules(frequent_itemsets, metric=\"confidence\", min_threshold=0.5)\n",
        "    filtered_rules = rules[(rules['lift'] > 1) & (rules['confidence'] > 0.5)]\n",
        "    sorted_rules = filtered_rules.sort_values(by=['lift', 'confidence'], ascending=False)\n",
        "    if sorted_rules.empty:\n",
        "        return \"No association rules found with the given minimum support and confidence values.\"\n",
        "    # Get the most likely bought items with the input_item as antecedent\n",
        "    rules_antecedent = sorted_rules[sorted_rules['antecedents'].apply(lambda x: input_item in x)]\n",
        "    rules_antecedent = rules_antecedent.sort_values(by=['lift', 'confidence'], ascending=False)\n",
        "\n",
        "    # Get the most likely bought items with the input_item as consequent\n",
        "    rules_consequent = sorted_rules[sorted_rules['consequents'].apply(lambda x: input_item in x)]\n",
        "    rules_consequent = rules_consequent.sort_values(by=['lift', 'confidence'], ascending=False)\n",
        "    merged_rules = pd.concat([rules_antecedent, rules_consequent])\n",
        "    top_items = merged_rules.head(10)['antecedents'].apply(lambda x: list(x)[0])\n",
        "    return list(top_items)\n",
        "\n",
        "\n",
        "def get_most_likely_bought_item(input_item):\n",
        "    likely_items = generate_association_rules(input_item)\n",
        "    temp = likely_items[0]\n",
        "    i = 0\n",
        "    while temp == input_item:\n",
        "        i += 1\n",
        "        if i == len(likely_items):\n",
        "            temp = likely_items[0]\n",
        "            break\n",
        "        temp = likely_items[i]\n",
        "        if temp == '':\n",
        "            temp = likely_items[i+1]\n",
        "        else:\n",
        "            pass\n",
        "    return temp\n"
      ],
      "metadata": {
        "id": "YClEyT-NGz-6"
      },
      "execution_count": 34,
      "outputs": []
    },
    {
      "cell_type": "code",
      "source": [
        "chk_itm = 'Focaccia'\n",
        "result = get_most_likely_bought_item(chk_itm)\n",
        "result"
      ],
      "metadata": {
        "colab": {
          "base_uri": "https://localhost:8080/",
          "height": 36
        },
        "id": "biWEbWKkJZZf",
        "outputId": "40247f17-2ae8-458c-c389-b9feb1d989cb"
      },
      "execution_count": 35,
      "outputs": [
        {
          "output_type": "execute_result",
          "data": {
            "text/plain": [
              "'Pomodoro'"
            ],
            "application/vnd.google.colaboratory.intrinsic+json": {
              "type": "string"
            }
          },
          "metadata": {},
          "execution_count": 35
        }
      ]
    },
    {
      "cell_type": "code",
      "source": [],
      "metadata": {
        "id": "Y3IoqjLwJ7cy"
      },
      "execution_count": null,
      "outputs": []
    }
  ]
}